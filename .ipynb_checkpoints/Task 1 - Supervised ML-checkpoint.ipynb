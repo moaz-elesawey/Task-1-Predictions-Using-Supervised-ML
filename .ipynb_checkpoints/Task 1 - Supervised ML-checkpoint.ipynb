{
 "cells": [
  {
   "cell_type": "markdown",
   "id": "e4f70888-d9cd-4592-b6ca-38aa048df8bf",
   "metadata": {},
   "source": [
    "# Task 1 - Predictions using Supervised Machine Learning."
   ]
  },
  {
   "cell_type": "markdown",
   "id": "a295e344-accc-4083-b5b3-47991b3c7df9",
   "metadata": {},
   "source": [
    "## Load Libraries will be used"
   ]
  },
  {
   "cell_type": "code",
   "execution_count": 1,
   "id": "c14e7855-5b64-415f-b7fa-601c647fc8a1",
   "metadata": {},
   "outputs": [],
   "source": [
    "import os\n",
    "import pickle\n",
    "\n",
    "import numpy as np\n",
    "import pandas as pd\n",
    "import matplotlib.pyplot as plt\n",
    "\n",
    "from sklearn.linear_model import LinearRegression\n",
    "from sklearn.model_selection import train_test_split\n",
    "from sklearn.preprocessing import StandardScaler\n",
    "from sklearn.metrics import r2_score, mean_absolute_error"
   ]
  },
  {
   "cell_type": "markdown",
   "id": "3c8f9e0d-4650-49d0-92c8-8fcc8fbc9c21",
   "metadata": {},
   "source": [
    "## Loading and inspecting the data"
   ]
  },
  {
   "cell_type": "code",
   "execution_count": 2,
   "id": "814505d5-682d-4e1b-bff4-9c2d01774889",
   "metadata": {},
   "outputs": [
    {
     "data": {
      "text/html": [
       "<div>\n",
       "<style scoped>\n",
       "    .dataframe tbody tr th:only-of-type {\n",
       "        vertical-align: middle;\n",
       "    }\n",
       "\n",
       "    .dataframe tbody tr th {\n",
       "        vertical-align: top;\n",
       "    }\n",
       "\n",
       "    .dataframe thead th {\n",
       "        text-align: right;\n",
       "    }\n",
       "</style>\n",
       "<table border=\"1\" class=\"dataframe\">\n",
       "  <thead>\n",
       "    <tr style=\"text-align: right;\">\n",
       "      <th></th>\n",
       "      <th>Hours</th>\n",
       "      <th>Scores</th>\n",
       "    </tr>\n",
       "  </thead>\n",
       "  <tbody>\n",
       "    <tr>\n",
       "      <th>0</th>\n",
       "      <td>2.5</td>\n",
       "      <td>21</td>\n",
       "    </tr>\n",
       "    <tr>\n",
       "      <th>1</th>\n",
       "      <td>5.1</td>\n",
       "      <td>47</td>\n",
       "    </tr>\n",
       "    <tr>\n",
       "      <th>2</th>\n",
       "      <td>3.2</td>\n",
       "      <td>27</td>\n",
       "    </tr>\n",
       "    <tr>\n",
       "      <th>3</th>\n",
       "      <td>8.5</td>\n",
       "      <td>75</td>\n",
       "    </tr>\n",
       "    <tr>\n",
       "      <th>4</th>\n",
       "      <td>3.5</td>\n",
       "      <td>30</td>\n",
       "    </tr>\n",
       "  </tbody>\n",
       "</table>\n",
       "</div>"
      ],
      "text/plain": [
       "   Hours  Scores\n",
       "0    2.5      21\n",
       "1    5.1      47\n",
       "2    3.2      27\n",
       "3    8.5      75\n",
       "4    3.5      30"
      ]
     },
     "execution_count": 2,
     "metadata": {},
     "output_type": "execute_result"
    }
   ],
   "source": [
    "data = pd.read_csv(os.path.join(\"student_scores.csv\"))\n",
    "data.head()"
   ]
  },
  {
   "cell_type": "code",
   "execution_count": 3,
   "id": "e1cfe390-49f4-4ecc-a1d7-d81d1530397d",
   "metadata": {},
   "outputs": [
    {
     "name": "stdout",
     "output_type": "stream",
     "text": [
      "<class 'pandas.core.frame.DataFrame'>\n",
      "RangeIndex: 25 entries, 0 to 24\n",
      "Data columns (total 2 columns):\n",
      " #   Column  Non-Null Count  Dtype  \n",
      "---  ------  --------------  -----  \n",
      " 0   Hours   25 non-null     float64\n",
      " 1   Scores  25 non-null     int64  \n",
      "dtypes: float64(1), int64(1)\n",
      "memory usage: 528.0 bytes\n"
     ]
    }
   ],
   "source": [
    "data.info()"
   ]
  },
  {
   "cell_type": "code",
   "execution_count": 4,
   "id": "a509f44e-9738-456b-b453-f20adde31c1a",
   "metadata": {},
   "outputs": [
    {
     "data": {
      "text/html": [
       "<div>\n",
       "<style scoped>\n",
       "    .dataframe tbody tr th:only-of-type {\n",
       "        vertical-align: middle;\n",
       "    }\n",
       "\n",
       "    .dataframe tbody tr th {\n",
       "        vertical-align: top;\n",
       "    }\n",
       "\n",
       "    .dataframe thead th {\n",
       "        text-align: right;\n",
       "    }\n",
       "</style>\n",
       "<table border=\"1\" class=\"dataframe\">\n",
       "  <thead>\n",
       "    <tr style=\"text-align: right;\">\n",
       "      <th></th>\n",
       "      <th>Hours</th>\n",
       "      <th>Scores</th>\n",
       "    </tr>\n",
       "  </thead>\n",
       "  <tbody>\n",
       "    <tr>\n",
       "      <th>count</th>\n",
       "      <td>25.000000</td>\n",
       "      <td>25.000000</td>\n",
       "    </tr>\n",
       "    <tr>\n",
       "      <th>mean</th>\n",
       "      <td>5.012000</td>\n",
       "      <td>51.480000</td>\n",
       "    </tr>\n",
       "    <tr>\n",
       "      <th>std</th>\n",
       "      <td>2.525094</td>\n",
       "      <td>25.286887</td>\n",
       "    </tr>\n",
       "    <tr>\n",
       "      <th>min</th>\n",
       "      <td>1.100000</td>\n",
       "      <td>17.000000</td>\n",
       "    </tr>\n",
       "    <tr>\n",
       "      <th>25%</th>\n",
       "      <td>2.700000</td>\n",
       "      <td>30.000000</td>\n",
       "    </tr>\n",
       "    <tr>\n",
       "      <th>50%</th>\n",
       "      <td>4.800000</td>\n",
       "      <td>47.000000</td>\n",
       "    </tr>\n",
       "    <tr>\n",
       "      <th>75%</th>\n",
       "      <td>7.400000</td>\n",
       "      <td>75.000000</td>\n",
       "    </tr>\n",
       "    <tr>\n",
       "      <th>max</th>\n",
       "      <td>9.200000</td>\n",
       "      <td>95.000000</td>\n",
       "    </tr>\n",
       "  </tbody>\n",
       "</table>\n",
       "</div>"
      ],
      "text/plain": [
       "           Hours     Scores\n",
       "count  25.000000  25.000000\n",
       "mean    5.012000  51.480000\n",
       "std     2.525094  25.286887\n",
       "min     1.100000  17.000000\n",
       "25%     2.700000  30.000000\n",
       "50%     4.800000  47.000000\n",
       "75%     7.400000  75.000000\n",
       "max     9.200000  95.000000"
      ]
     },
     "execution_count": 4,
     "metadata": {},
     "output_type": "execute_result"
    }
   ],
   "source": [
    "data.describe()"
   ]
  },
  {
   "cell_type": "code",
   "execution_count": 5,
   "id": "eac72ffc-4802-4e8c-a71a-66c60fc5c57c",
   "metadata": {},
   "outputs": [
    {
     "data": {
      "image/png": "[encoded data removed]",
      "text/plain": [
       "<Figure size 720x216 with 2 Axes>"
      ]
     },
     "metadata": {
      "needs_background": "light"
     },
     "output_type": "display_data"
    }
   ],
   "source": [
    "data.hist(figsize=(10, 3), bins=20);"
   ]
  },
  {
   "cell_type": "markdown",
   "id": "2ab33751-0462-4e67-ad3e-127d25fc6a93",
   "metadata": {},
   "source": [
    "## Data Modeling (Linear Regression)\n",
    "\n",
    "$$\\hat{y} = m x + b$$\n",
    "\n",
    "$$MSE(\\hat{y}, y) = \\frac{1}{m} \\sum (\\hat{y} - y)^2$$\n",
    "\n",
    "where $x$ is the input data, $m$ is slope $b$ is the bias term, and $\\hat{y}$ is the prediction\n",
    "### Splitting data into train and test"
   ]
  },
  {
   "cell_type": "code",
   "execution_count": 6,
   "id": "de5aa073-b8ec-4b04-b409-8bb480be7144",
   "metadata": {},
   "outputs": [
    {
     "data": {
      "text/plain": [
       "((22, 1), (3, 1))"
      ]
     },
     "execution_count": 6,
     "metadata": {},
     "output_type": "execute_result"
    }
   ],
   "source": [
    "TEST_SIZE = 0.1\n",
    "RANDOM_STATE = 42\n",
    "\n",
    "X = data[[\"Hours\"]]\n",
    "y = data[\"Scores\"]\n",
    "\n",
    "x_train, x_test, y_train, y_test = train_test_split(X, y, test_size=TEST_SIZE, \n",
    "                                                    random_state=RANDOM_STATE)\n",
    "x_train.shape, x_test.shape"
   ]
  },
  {
   "cell_type": "code",
   "execution_count": 7,
   "id": "17f89d67-663c-47ac-9a7a-253424722fd3",
   "metadata": {},
   "outputs": [],
   "source": [
    "scaler = StandardScaler()\n",
    "scaler = scaler.fit(x_train)\n",
    "\n",
    "x_train = scaler.transform(x_train)\n",
    "x_test = scaler.transform(x_test)"
   ]
  },
  {
   "cell_type": "code",
   "execution_count": 8,
   "id": "4dfb8fc4-3096-4a5d-a165-23408640c59b",
   "metadata": {},
   "outputs": [
    {
     "name": "stdout",
     "output_type": "stream",
     "text": [
      "LR Model Coef :  [23.7335876]\n",
      "LR Model Intercept :  52.50000000000001\n"
     ]
    }
   ],
   "source": [
    "lr = LinearRegression()\n",
    "\n",
    "lr = lr.fit(x_train, y_train)\n",
    "\n",
    "print(\"LR Model Coef : \", lr.coef_)\n",
    "print(\"LR Model Intercept : \", lr.intercept_)"
   ]
  },
  {
   "cell_type": "code",
   "execution_count": 9,
   "id": "10cceb68-0c96-4f4f-a1ae-9cf963b093e6",
   "metadata": {},
   "outputs": [
    {
     "data": {
      "image/png": "[encoded data removed]",
      "text/plain": [
       "<Figure size 576x360 with 1 Axes>"
      ]
     },
     "metadata": {
      "needs_background": "light"
     },
     "output_type": "display_data"
    }
   ],
   "source": [
    "fit_data = np.array([x_train.min(), x_train.max()])\n",
    "fit_line = lr.coef_ * fit_data + lr.intercept_\n",
    "\n",
    "plt.figure(figsize=(8, 5))\n",
    "plt.scatter(x_train.ravel(), y_train, label=\"True Values\")\n",
    "plt.plot(fit_data, fit_line.ravel(), color=\"r\", linestyle=\"--\", label=\"Predicted Values\")\n",
    "plt.xlabel(\"Hours\")\n",
    "plt.ylabel(\"Scores\")\n",
    "plt.legend()\n",
    "plt.title(\"Linear Model for Scores Predictions using Hours\");"
   ]
  },
  {
   "cell_type": "code",
   "execution_count": 10,
   "id": "d4ea655d-0f27-4fc5-89c6-cf77f0868d37",
   "metadata": {},
   "outputs": [
    {
     "name": "stdout",
     "output_type": "stream",
     "text": [
      "R2 Score : 0.9740471287137089\n"
     ]
    }
   ],
   "source": [
    "y_pred = lr.predict(x_test)\n",
    "\n",
    "score = r2_score(y_test, y_pred)\n",
    "print(\"R2 Score :\", score)"
   ]
  },
  {
   "cell_type": "code",
   "execution_count": 11,
   "id": "08924c4b-ec14-4e96-baa3-5b112c2b2be1",
   "metadata": {},
   "outputs": [
    {
     "name": "stdout",
     "output_type": "stream",
     "text": [
      "MAE Score : 3.9657593887812177\n"
     ]
    }
   ],
   "source": [
    "mae_score = mean_absolute_error(y_test, y_pred)\n",
    "print(\"MAE Score :\", mae_score)"
   ]
  },
  {
   "cell_type": "markdown",
   "id": "4feb8215-f36a-406d-a4f2-5a88c4e9a0b2",
   "metadata": {},
   "source": [
    "## Production Method using Sklearn Pipeline"
   ]
  },
  {
   "cell_type": "code",
   "execution_count": 12,
   "id": "fb48b229-40a7-4f44-a287-9889af30a9d1",
   "metadata": {},
   "outputs": [
    {
     "data": {
      "text/plain": [
       "Pipeline(steps=[('scaler', StandardScaler()), ('lr', LinearRegression())])"
      ]
     },
     "execution_count": 12,
     "metadata": {},
     "output_type": "execute_result"
    }
   ],
   "source": [
    "from sklearn.pipeline import Pipeline\n",
    "pipe = Pipeline([\n",
    "    (\"scaler\", StandardScaler()),\n",
    "    (\"lr\", LinearRegression())\n",
    "])\n",
    "\n",
    "pipe.fit(x_train, y_train)"
   ]
  },
  {
   "cell_type": "code",
   "execution_count": 13,
   "id": "7ff07900-b825-49a5-a35e-95a2fd284e01",
   "metadata": {},
   "outputs": [
    {
     "name": "stdout",
     "output_type": "stream",
     "text": [
      "R2 Score : 0.9740471287137089\n"
     ]
    }
   ],
   "source": [
    "y_pred = pipe.predict(x_test)\n",
    "\n",
    "score = r2_score(y_test, y_pred)\n",
    "print(\"R2 Score :\", score)"
   ]
  },
  {
   "cell_type": "code",
   "execution_count": 14,
   "id": "8fb25376-7767-49e6-b227-5e9a8125d532",
   "metadata": {},
   "outputs": [
    {
     "name": "stdout",
     "output_type": "stream",
     "text": [
      "MAE Score : 3.9657593887812177\n"
     ]
    }
   ],
   "source": [
    "mae_score = mean_absolute_error(y_test, y_pred)\n",
    "print(\"MAE Score :\", mae_score)"
   ]
  },
  {
   "cell_type": "markdown",
   "id": "cc19283d-7a8c-4461-b6df-69a64378e233",
   "metadata": {},
   "source": [
    "### Saving the Model"
   ]
  },
  {
   "cell_type": "code",
   "execution_count": 15,
   "id": "af6d0d2b-d2f1-43e7-9bc4-b39561de1da8",
   "metadata": {},
   "outputs": [
    {
     "name": "stdout",
     "output_type": "stream",
     "text": [
      " lr_model.pkl\t\t\t  student_scores.csv\r\n",
      "'Sol1. Linear Regression.ipynb'  'Task 1 - Supervised ML.ipynb'\r\n"
     ]
    }
   ],
   "source": [
    "with open(\"lr_model.pkl\", \"wb\") as f:\n",
    "    pickle.dump(pipe, f)\n",
    "\n",
    "!ls"
   ]
  }
 ],
 "metadata": {
  "kernelspec": {
   "display_name": "Python 3 (ipykernel)",
   "language": "python",
   "name": "python3"
  },
  "language_info": {
   "codemirror_mode": {
    "name": "ipython",
    "version": 3
   },
   "file_extension": ".py",
   "mimetype": "text/x-python",
   "name": "python",
   "nbconvert_exporter": "python",
   "pygments_lexer": "ipython3",
   "version": "3.9.12"
  }
 },
 "nbformat": 4,
 "nbformat_minor": 5
}
